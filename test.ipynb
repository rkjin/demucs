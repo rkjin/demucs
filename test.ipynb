{
 "cells": [
  {
   "cell_type": "code",
   "execution_count": 1,
   "metadata": {},
   "outputs": [
    {
     "ename": "TypeError",
     "evalue": "unsupported operand type(s) for /: 'str' and 'str'",
     "output_type": "error",
     "traceback": [
      "\u001b[0;31m---------------------------------------------------------------------------\u001b[0m",
      "\u001b[0;31mTypeError\u001b[0m                                 Traceback (most recent call last)",
      "\u001b[1;32m/home/bj/data/dnn/cfnet_venv/demucs-v2/test.ipynb Cell 1'\u001b[0m in \u001b[0;36m<module>\u001b[0;34m\u001b[0m\n\u001b[1;32m      <a href='vscode-notebook-cell:/home/bj/data/dnn/cfnet_venv/demucs-v2/test.ipynb#ch0000000?line=0'>1</a>\u001b[0m a \u001b[39m=\u001b[39m \u001b[39m'\u001b[39m\u001b[39mabcd\u001b[39m\u001b[39m'\u001b[39m\n\u001b[1;32m      <a href='vscode-notebook-cell:/home/bj/data/dnn/cfnet_venv/demucs-v2/test.ipynb#ch0000000?line=1'>2</a>\u001b[0m b \u001b[39m=\u001b[39m \u001b[39m'\u001b[39m\u001b[39mefg\u001b[39m\u001b[39m'\u001b[39m\n\u001b[0;32m----> <a href='vscode-notebook-cell:/home/bj/data/dnn/cfnet_venv/demucs-v2/test.ipynb#ch0000000?line=2'>3</a>\u001b[0m c \u001b[39m=\u001b[39m a\u001b[39m/\u001b[39;49mb\n\u001b[1;32m      <a href='vscode-notebook-cell:/home/bj/data/dnn/cfnet_venv/demucs-v2/test.ipynb#ch0000000?line=3'>4</a>\u001b[0m c\n",
      "\u001b[0;31mTypeError\u001b[0m: unsupported operand type(s) for /: 'str' and 'str'"
     ]
    }
   ],
   "source": [
    "a = 'abcd'\n",
    "b = 'efg'\n",
    "c = a/b\n",
    "c"
   ]
  },
  {
   "cell_type": "code",
   "execution_count": 1,
   "metadata": {},
   "outputs": [
    {
     "data": {
      "text/plain": [
       "12"
      ]
     },
     "execution_count": 1,
     "metadata": {},
     "output_type": "execute_result"
    }
   ],
   "source": [
    "import os\n",
    "os.cpu_count()"
   ]
  },
  {
   "cell_type": "code",
   "execution_count": 4,
   "metadata": {},
   "outputs": [
    {
     "name": "stdout",
     "output_type": "stream",
     "text": [
      "slice(None, None, None)\n"
     ]
    },
    {
     "data": {
      "text/plain": [
       "'1234567'"
      ]
     },
     "execution_count": 4,
     "metadata": {},
     "output_type": "execute_result"
    }
   ],
   "source": [
    "# Program to get a substring from the given string \n",
    "\n",
    "a = '1234567'\n",
    "\n",
    "# stop = 3\n",
    "# contains 0, 1 and 2 indices\n",
    "s = slice(None) \n",
    "print(s)\n",
    "a[s]  #  123\n",
    "\n"
   ]
  },
  {
   "cell_type": "code",
   "execution_count": 1,
   "metadata": {},
   "outputs": [
    {
     "data": {
      "text/plain": [
       "inf"
      ]
     },
     "execution_count": 1,
     "metadata": {},
     "output_type": "execute_result"
    }
   ],
   "source": [
    " float(\"inf\")"
   ]
  },
  {
   "cell_type": "code",
   "execution_count": 7,
   "metadata": {},
   "outputs": [
    {
     "name": "stdout",
     "output_type": "stream",
     "text": [
      "tensor([[-0.4847,  0.1779, -0.5417]])\n"
     ]
    },
    {
     "data": {
      "text/plain": [
       "tensor([[-0.4847],\n",
       "        [ 0.1779],\n",
       "        [-0.5417]])"
      ]
     },
     "execution_count": 7,
     "metadata": {},
     "output_type": "execute_result"
    }
   ],
   "source": [
    "import torch\n",
    "\n",
    "a = torch.randn(1,3)\n",
    "print(a)\n",
    "a.t()"
   ]
  },
  {
   "cell_type": "code",
   "execution_count": 11,
   "metadata": {},
   "outputs": [
    {
     "name": "stdout",
     "output_type": "stream",
     "text": [
      "torch.Size([1, 5984383])\n"
     ]
    }
   ],
   "source": [
    "a = torch.randn(2, 5984383)\n",
    "b = a.mean(dim = -2, keepdim=True)\n",
    "print(b.shape)"
   ]
  },
  {
   "cell_type": "code",
   "execution_count": 8,
   "metadata": {},
   "outputs": [
    {
     "name": "stdout",
     "output_type": "stream",
     "text": [
      "same\n"
     ]
    }
   ],
   "source": [
    "a = 4\n",
    "if a == 4:\n",
    "    print('same')\n",
    "elif a > 3:\n",
    "    print('bigger')\n",
    "elif a < 6:\n",
    "    print('smaller')    \n",
    "else:\n",
    "    print('hahaha')        "
   ]
  },
  {
   "cell_type": "code",
   "execution_count": 3,
   "metadata": {},
   "outputs": [
    {
     "name": "stdout",
     "output_type": "stream",
     "text": [
      "init.py\n"
     ]
    }
   ],
   "source": [
    "import test\n",
    "import demucs"
   ]
  },
  {
   "cell_type": "code",
   "execution_count": 10,
   "metadata": {},
   "outputs": [
    {
     "name": "stdout",
     "output_type": "stream",
     "text": [
      "a 1\n",
      "b 2\n",
      "c 3\n"
     ]
    },
    {
     "data": {
      "text/plain": [
       "'a  #   b  #   c'"
      ]
     },
     "execution_count": 10,
     "metadata": {},
     "output_type": "execute_result"
    }
   ],
   "source": [
    "a = {'a':1, 'b':2, 'c':3}\n",
    "for n, v in a.items():\n",
    "    print(n, v)\n",
    " \n",
    "b = \"  #   \"\n",
    "c = b.join(a)\n",
    "c"
   ]
  },
  {
   "cell_type": "code",
   "execution_count": 3,
   "metadata": {},
   "outputs": [
    {
     "name": "stdout",
     "output_type": "stream",
     "text": [
      "torch.Size([5, 1, 10])\n",
      "tensor([[[-9.3224e-02,  2.3400e-02, -4.3446e-02, -1.4609e-01,  9.3889e-02,\n",
      "          -7.5288e-01, -1.2144e-01, -1.9579e-01, -5.0405e-02, -5.9986e-02]],\n",
      "\n",
      "        [[ 6.8343e-02,  2.0761e-03, -1.5853e-03,  5.2012e-01,  2.0161e-01,\n",
      "          -8.8312e-01, -2.7539e-03, -5.2546e-03, -1.2683e-03, -6.5027e-04]],\n",
      "\n",
      "        [[ 6.5151e-01,  2.4033e-05, -1.0469e-05,  9.1601e-01,  2.8199e-01,\n",
      "          -8.5313e-01, -4.8830e-05, -9.8070e-05, -2.9384e-05, -5.1912e-06]],\n",
      "\n",
      "        [[ 7.3809e-01,  4.1052e-08, -5.6949e-08,  9.8815e-01,  3.0230e-01,\n",
      "          -7.2347e-01, -9.1088e-07, -1.8890e-06, -6.9356e-07, -3.9146e-08]],\n",
      "\n",
      "        [[ 7.5523e-01,  1.3975e-11, -2.9270e-10,  9.9839e-01,  3.1134e-01,\n",
      "          -4.4263e-01, -1.7637e-08, -3.1818e-08, -1.6587e-08, -2.9484e-10]]],\n",
      "       grad_fn=<CatBackward0>)\n"
     ]
    }
   ],
   "source": [
    "import torch\n",
    "import torch.nn as nn\n",
    "\n",
    "lstm = nn.LSTM(bidirectional=True, num_layers=1, hidden_size=5, input_size=5)\n",
    "\n",
    "x = torch.arange(25).view(5,1,5).float()\n",
    "\n",
    "o = lstm(x)\n",
    "print(o[0].shape)\n",
    "print(o[0])"
   ]
  },
  {
   "cell_type": "code",
   "execution_count": 7,
   "metadata": {},
   "outputs": [
    {
     "data": {
      "text/plain": [
       "tensor([[0.4326, 0.7014, 0.0521],\n",
       "        [0.4432, 0.1396, 0.5436],\n",
       "        [0.4847, 0.4569, 0.3583]])"
      ]
     },
     "execution_count": 7,
     "metadata": {},
     "output_type": "execute_result"
    }
   ],
   "source": [
    "a = torch.empty(3,3).uniform_(0,1)\n",
    "a"
   ]
  },
  {
   "cell_type": "code",
   "execution_count": 13,
   "metadata": {},
   "outputs": [
    {
     "name": "stdout",
     "output_type": "stream",
     "text": [
      "2\n",
      "3\n"
     ]
    }
   ],
   "source": [
    "a = 0 or 2\n",
    "print(a)\n",
    "b = 3 or 4\n",
    "print(b)"
   ]
  },
  {
   "cell_type": "code",
   "execution_count": 34,
   "metadata": {},
   "outputs": [
    {
     "name": "stdout",
     "output_type": "stream",
     "text": [
      "A Classic Education - NightOwl /home/bj/data/dnn/cfnet_venv/music_data/musdb18/train/A Classic Education - NightOwl.stem.mp4\n",
      "{'vocals': /home/bj/data/dnn/cfnet_venv/music_data/musdb18/train/A Classic Education - NightOwl.stem.mp4, 'drums': /home/bj/data/dnn/cfnet_venv/music_data/musdb18/train/A Classic Education - NightOwl.stem.mp4, 'bass': /home/bj/data/dnn/cfnet_venv/music_data/musdb18/train/A Classic Education - NightOwl.stem.mp4, 'other': /home/bj/data/dnn/cfnet_venv/music_data/musdb18/train/A Classic Education - NightOwl.stem.mp4}\n",
      "(7552000, 2)\n",
      "OrderedDict([('vocals', vocals), ('drums', drums), ('bass', bass), ('other', other), ('accompaniment', bass+drums+other), ('linear_mixture', vocals+bass+drums+other)]) (7552000, 2)\n",
      "[[-0.01119995 -0.0027771   0.00424194 ... -0.0553894  -0.07116699\n",
      "  -0.08987427]\n",
      " [-0.27740479 -0.26013184 -0.24954224 ... -0.078125   -0.12237549\n",
      "  -0.16931152]] [[ 0.0682373   0.07260132  0.07543945 ... -0.06079102 -0.07434082\n",
      "  -0.09103394]\n",
      " [ 0.02297974  0.02108765  0.01806641 ... -0.06216431 -0.07019043\n",
      "  -0.07910156]]\n",
      "Actions - Devil's Words /home/bj/data/dnn/cfnet_venv/music_data/musdb18/train/Actions - Devil's Words.stem.mp4\n",
      "{'vocals': /home/bj/data/dnn/cfnet_venv/music_data/musdb18/train/Actions - Devil's Words.stem.mp4, 'drums': /home/bj/data/dnn/cfnet_venv/music_data/musdb18/train/Actions - Devil's Words.stem.mp4, 'bass': /home/bj/data/dnn/cfnet_venv/music_data/musdb18/train/Actions - Devil's Words.stem.mp4, 'other': /home/bj/data/dnn/cfnet_venv/music_data/musdb18/train/Actions - Devil's Words.stem.mp4}\n",
      "(8671232, 2)\n",
      "OrderedDict([('vocals', vocals), ('drums', drums), ('bass', bass), ('other', other), ('accompaniment', bass+drums+other), ('linear_mixture', vocals+bass+drums+other)]) (8671232, 2)\n",
      "[[ 0.13439941  0.1399231   0.14712524 ... -0.34512329 -0.32351685\n",
      "  -0.28479004]\n",
      " [-0.10317993 -0.10675049 -0.10739136 ... -0.39196777 -0.39709473\n",
      "  -0.3916626 ]] [[-0.14492798 -0.14648438 -0.14648438 ... -0.20730591 -0.20773315\n",
      "  -0.19674683]\n",
      " [-0.13842773 -0.14291382 -0.14486694 ... -0.22055054 -0.22607422\n",
      "  -0.21963501]]\n",
      "Actions - One Minute Smile /home/bj/data/dnn/cfnet_venv/music_data/musdb18/train/Actions - One Minute Smile.stem.mp4\n",
      "{'vocals': /home/bj/data/dnn/cfnet_venv/music_data/musdb18/train/Actions - One Minute Smile.stem.mp4, 'drums': /home/bj/data/dnn/cfnet_venv/music_data/musdb18/train/Actions - One Minute Smile.stem.mp4, 'bass': /home/bj/data/dnn/cfnet_venv/music_data/musdb18/train/Actions - One Minute Smile.stem.mp4, 'other': /home/bj/data/dnn/cfnet_venv/music_data/musdb18/train/Actions - One Minute Smile.stem.mp4}\n",
      "(7204864, 2)\n",
      "OrderedDict([('vocals', vocals), ('drums', drums), ('bass', bass), ('other', other), ('accompaniment', bass+drums+other), ('linear_mixture', vocals+bass+drums+other)]) (7204864, 2)\n",
      "[[ 0.11834717  0.07662964  0.01727295 ... -0.11697388 -0.14599609\n",
      "  -0.10308838]\n",
      " [-0.16650391 -0.25042725 -0.28488159 ... -0.1932373  -0.23782349\n",
      "  -0.23260498]] [[ 0.15875244  0.09545898  0.02416992 ...  0.08804321  0.10479736\n",
      "   0.1166687 ]\n",
      " [-0.06494141 -0.11218262 -0.13223267 ... -0.03173828 -0.02929688\n",
      "  -0.0244751 ]]\n",
      "Actions - South Of The Water /home/bj/data/dnn/cfnet_venv/music_data/musdb18/train/Actions - South Of The Water.stem.mp4\n",
      "{'vocals': /home/bj/data/dnn/cfnet_venv/music_data/musdb18/train/Actions - South Of The Water.stem.mp4, 'drums': /home/bj/data/dnn/cfnet_venv/music_data/musdb18/train/Actions - South Of The Water.stem.mp4, 'bass': /home/bj/data/dnn/cfnet_venv/music_data/musdb18/train/Actions - South Of The Water.stem.mp4, 'other': /home/bj/data/dnn/cfnet_venv/music_data/musdb18/train/Actions - South Of The Water.stem.mp4}\n",
      "(7788544, 2)\n",
      "OrderedDict([('vocals', vocals), ('drums', drums), ('bass', bass), ('other', other), ('accompaniment', bass+drums+other), ('linear_mixture', vocals+bass+drums+other)]) (7788544, 2)\n",
      "[[-0.12280273 -0.1739502  -0.21942139 ... -0.21865845 -0.23809814\n",
      "  -0.25839233]\n",
      " [-0.02166748 -0.046875   -0.08499146 ... -0.24154663 -0.23184204\n",
      "  -0.2194519 ]] [[ 0.00231934 -0.04055786 -0.05105591 ... -0.05810547 -0.07553101\n",
      "  -0.09442139]\n",
      " [-0.01980591 -0.00921631  0.00686646 ... -0.00024414  0.00515747\n",
      "   0.0116272 ]]\n",
      "Aimee Norwich - Child /home/bj/data/dnn/cfnet_venv/music_data/musdb18/train/Aimee Norwich - Child.stem.mp4\n",
      "{'vocals': /home/bj/data/dnn/cfnet_venv/music_data/musdb18/train/Aimee Norwich - Child.stem.mp4, 'drums': /home/bj/data/dnn/cfnet_venv/music_data/musdb18/train/Aimee Norwich - Child.stem.mp4, 'bass': /home/bj/data/dnn/cfnet_venv/music_data/musdb18/train/Aimee Norwich - Child.stem.mp4, 'other': /home/bj/data/dnn/cfnet_venv/music_data/musdb18/train/Aimee Norwich - Child.stem.mp4}\n",
      "(8338432, 2)\n",
      "OrderedDict([('vocals', vocals), ('drums', drums), ('bass', bass), ('other', other), ('accompaniment', bass+drums+other), ('linear_mixture', vocals+bass+drums+other)]) (8338432, 2)\n",
      "[[0.24795532 0.22183228 0.19519043 ... 0.15481567 0.18289185 0.20870972]\n",
      " [0.09979248 0.09051514 0.08279419 ... 0.23590088 0.25231934 0.26477051]] [[ 2.23388672e-02  1.05895996e-02 -6.10351562e-05 ...  4.04968262e-02\n",
      "   2.56652832e-02  7.59887695e-03]\n",
      " [-8.30078125e-03 -1.20544434e-02 -1.32446289e-02 ...  6.10351562e-05\n",
      "   1.00708008e-03  1.43432617e-03]]\n",
      "AM Contra - Heart Peripheral /home/bj/data/dnn/cfnet_venv/music_data/musdb18/test/AM Contra - Heart Peripheral.stem.mp4\n",
      "{'vocals': /home/bj/data/dnn/cfnet_venv/music_data/musdb18/test/AM Contra - Heart Peripheral.stem.mp4, 'drums': /home/bj/data/dnn/cfnet_venv/music_data/musdb18/test/AM Contra - Heart Peripheral.stem.mp4, 'bass': /home/bj/data/dnn/cfnet_venv/music_data/musdb18/test/AM Contra - Heart Peripheral.stem.mp4, 'other': /home/bj/data/dnn/cfnet_venv/music_data/musdb18/test/AM Contra - Heart Peripheral.stem.mp4}\n",
      "(9256960, 2)\n",
      "OrderedDict([('vocals', vocals), ('drums', drums), ('bass', bass), ('other', other), ('accompaniment', bass+drums+other), ('linear_mixture', vocals+bass+drums+other)]) (9256960, 2)\n",
      "[[-0.03128052  0.02532959 -0.02566528 ...  0.22824097  0.24179077\n",
      "   0.2460022 ]\n",
      " [-0.00186157  0.01937866 -0.00753784 ...  0.24780273  0.18026733\n",
      "   0.1524353 ]] [[-0.15213013 -0.12789917 -0.12698364 ... -0.01861572 -0.0614624\n",
      "  -0.07510376]\n",
      " [-0.11764526 -0.09054565 -0.08288574 ... -0.00512695 -0.07543945\n",
      "  -0.11599731]]\n",
      "Al James - Schoolboy Facination /home/bj/data/dnn/cfnet_venv/music_data/musdb18/test/Al James - Schoolboy Facination.stem.mp4\n",
      "{'vocals': /home/bj/data/dnn/cfnet_venv/music_data/musdb18/test/Al James - Schoolboy Facination.stem.mp4, 'drums': /home/bj/data/dnn/cfnet_venv/music_data/musdb18/test/Al James - Schoolboy Facination.stem.mp4, 'bass': /home/bj/data/dnn/cfnet_venv/music_data/musdb18/test/Al James - Schoolboy Facination.stem.mp4, 'other': /home/bj/data/dnn/cfnet_venv/music_data/musdb18/test/Al James - Schoolboy Facination.stem.mp4}\n",
      "(8835072, 2)\n",
      "OrderedDict([('vocals', vocals), ('drums', drums), ('bass', bass), ('other', other), ('accompaniment', bass+drums+other), ('linear_mixture', vocals+bass+drums+other)]) (8835072, 2)\n",
      "[[ 0.24273682  0.23266602  0.19085693 ... -0.02911377 -0.03115845\n",
      "  -0.03091431]\n",
      " [ 0.19503784  0.18200684  0.18707275 ...  0.01361084  0.00964355\n",
      "   0.00567627]] [[0.04873657 0.03140259 0.02438354 ... 0.         0.         0.        ]\n",
      " [0.02911377 0.01293945 0.01513672 ... 0.         0.         0.        ]]\n",
      "Angels In Amplifiers - I'm Alright /home/bj/data/dnn/cfnet_venv/music_data/musdb18/test/Angels In Amplifiers - I'm Alright.stem.mp4\n",
      "{'vocals': /home/bj/data/dnn/cfnet_venv/music_data/musdb18/test/Angels In Amplifiers - I'm Alright.stem.mp4, 'drums': /home/bj/data/dnn/cfnet_venv/music_data/musdb18/test/Angels In Amplifiers - I'm Alright.stem.mp4, 'bass': /home/bj/data/dnn/cfnet_venv/music_data/musdb18/test/Angels In Amplifiers - I'm Alright.stem.mp4, 'other': /home/bj/data/dnn/cfnet_venv/music_data/musdb18/test/Angels In Amplifiers - I'm Alright.stem.mp4}\n",
      "(7911424, 2)\n",
      "OrderedDict([('vocals', vocals), ('drums', drums), ('bass', bass), ('other', other), ('accompaniment', bass+drums+other), ('linear_mixture', vocals+bass+drums+other)]) (7911424, 2)\n",
      "[[ 0.27328491  0.29058838  0.30880737 ... -0.11849976 -0.14050293\n",
      "  -0.16574097]\n",
      " [ 0.21783447  0.23278809  0.24472046 ... -0.29098511 -0.33551025\n",
      "  -0.29724121]] [[ 0.00488281  0.00531006  0.00631714 ... -0.05029297 -0.04003906\n",
      "  -0.00167847]\n",
      " [ 0.00360107  0.00396729  0.00418091 ... -0.06280518 -0.05279541\n",
      "   0.012146  ]]\n"
     ]
    }
   ],
   "source": [
    "import musdb\n",
    "import random\n",
    "\n",
    "mus = musdb.DB(root = '/home/bj/data/dnn/cfnet_venv/music_data/musdb18')\n",
    "# print(mus.tracks)\n",
    "for track in mus:\n",
    "    print(track.name, track.path )\n",
    "    print(track.sources)\n",
    "    print(track.audio.shape)\n",
    "    print(track.targets, track.targets['vocals'].audio.shape)\n",
    "\n",
    "    track.chunk_duration = 5.0\n",
    "    track.chunk_start = random.uniform(0, track.duration - track.chunk_duration)\n",
    "    x = track.audio.T\n",
    "    y = track.targets['vocals'].audio.T\n",
    "    print(x, y)"
   ]
  },
  {
   "cell_type": "code",
   "execution_count": 3,
   "metadata": {},
   "outputs": [
    {
     "name": "stdout",
     "output_type": "stream",
     "text": [
      "[2, 3]\n",
      "[2, 3, 4, 5, 6, 7, 8]\n",
      "[1, 2, 3, 4, 5, 6, 7, 8]\n"
     ]
    }
   ],
   "source": [
    "sl = slice(1,3)\n",
    "sl2 = slice(1, None, None)\n",
    "sl3 = slice(None, None, None)\n",
    "a = [1,2,3,4,5,6,7,8]\n",
    "print(a[sl])\n",
    "print(a[sl2])\n",
    "print(a[sl3])"
   ]
  },
  {
   "cell_type": "code",
   "execution_count": 5,
   "metadata": {},
   "outputs": [
    {
     "name": "stdout",
     "output_type": "stream",
     "text": [
      "0\n",
      "1\n",
      "2\n",
      "3\n",
      "4\n",
      "5\n",
      "6\n",
      "7\n",
      "8\n",
      "9\n"
     ]
    }
   ],
   "source": [
    "def gen():\n",
    "    for i in range(10):\n",
    "        yield i\n",
    "num = gen()\n",
    "\n",
    "for i in num:\n",
    "    print(i)        "
   ]
  }
 ],
 "metadata": {
  "interpreter": {
   "hash": "f8b245196578ab60b61e543640d320aa047218d8e06c6b0318c56bb35d0b3b3d"
  },
  "kernelspec": {
   "display_name": "Python 3.8.10 ('cfnet_venv')",
   "language": "python",
   "name": "python3"
  },
  "language_info": {
   "codemirror_mode": {
    "name": "ipython",
    "version": 3
   },
   "file_extension": ".py",
   "mimetype": "text/x-python",
   "name": "python",
   "nbconvert_exporter": "python",
   "pygments_lexer": "ipython3",
   "version": "3.8.10"
  },
  "orig_nbformat": 4
 },
 "nbformat": 4,
 "nbformat_minor": 2
}
